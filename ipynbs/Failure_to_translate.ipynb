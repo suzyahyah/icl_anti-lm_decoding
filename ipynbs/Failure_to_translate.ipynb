{
 "cells": [
  {
   "cell_type": "markdown",
   "metadata": {},
   "source": [
    "# Error Analysis: Failure to Translate"
   ]
  },
  {
   "cell_type": "code",
   "execution_count": 1,
   "metadata": {},
   "outputs": [
    {
     "name": "stdout",
     "output_type": "stream",
     "text": [
      "/exp/ssia/projects/icl_antilm_decoding\n"
     ]
    }
   ],
   "source": [
    "%cd /exp/ssia/projects/icl_antilm_decoding"
   ]
  },
  {
   "cell_type": "code",
   "execution_count": 2,
   "metadata": {},
   "outputs": [],
   "source": [
    "import seaborn as sns\n",
    "import matplotlib.pyplot as plt\n",
    "from IPython.display import display, Math, Latex\n",
    "\n",
    "import json\n",
    "import seaborn\n",
    "sns.set_style('whitegrid')\n",
    "from omegaconf import OmegaConf\n",
    "import pandas as pd\n",
    "import numpy as np\n",
    "import argparse\n",
    "import os\n",
    "\n",
    "rd = lambda x: np.around(x, 2)"
   ]
  },
  {
   "cell_type": "code",
   "execution_count": 3,
   "metadata": {},
   "outputs": [],
   "source": [
    "from omegaconf import OmegaConf\n",
    "import pandas as pd\n",
    "import numpy as np\n",
    "import argparse\n",
    "rd = lambda x: np.around(x, 2)\n",
    "\n",
    "cfp = OmegaConf.load(f\"configs/file_paths/logits.yaml\")\n",
    "model_cf = OmegaConf.load(f'configs/model/default.yaml')\n",
    "data_cf = OmegaConf.load('configs/data/default.yaml')\n",
    "format_cf = OmegaConf.load('configs/format/instr_L1L2.yaml')\n",
    "generator_cf = OmegaConf.load('configs/generator/default.yaml')\n",
    "logits_cf = OmegaConf.load('configs/logits_processor/default.yaml')\n",
    "prompt_cf = OmegaConf.load('configs/prompt_select/random.yaml')\n",
    "\n",
    "args = OmegaConf.merge(model_cf, data_cf, format_cf, generator_cf, logits_cf, prompt_cf)\n",
    "args.seed = 0\n",
    "\n",
    "\n",
    "#args = OmegaConf.merge(model_cf, data_cf, format_cf, generator_cf, training_cf, logits_cf, prompt_cf)\n",
    "\n",
    "args.data.trainset = \"FLORES\"\n",
    "args.data.testset = \"FLORES\"\n",
    "args.data.doclevel = \"sentence\"\n",
    "args.sample_prompts.nprompts = 0\n",
    "args.seed = 0"
   ]
  },
  {
   "cell_type": "code",
   "execution_count": 4,
   "metadata": {},
   "outputs": [],
   "source": [
    "results_cf = cfp['res_fn'].format(**args)"
   ]
  },
  {
   "cell_type": "code",
   "execution_count": 5,
   "metadata": {},
   "outputs": [
    {
     "data": {
      "text/plain": [
       "'/exp/ssia/projects/icl_antilm_decoding/results/format-instr_L1L2/no_lengthfilter-random/gen-defaultsentence-DefaultLogits/FLORES-FLORES/gptn2.7B-nprompts0-seed0.en-fr.json'"
      ]
     },
     "execution_count": 5,
     "metadata": {},
     "output_type": "execute_result"
    }
   ],
   "source": [
    "results_cf"
   ]
  },
  {
   "cell_type": "code",
   "execution_count": 58,
   "metadata": {},
   "outputs": [],
   "source": [
    "# loop models\n",
    "# loop anti_lm_x_0.3, pmi_x_0.1, greedy\n",
    "MODELS = ['xglm2.9B', 'xglm7.5B', 'bloom3b', 'bloom7b1', 'llama7b', 'llama7b-chat']\n",
    "MODES = ['anti_lm', 'pmi', 'default']\n",
    "CONTRASTS = ['x']\n",
    "ALPHAS = [0.1, 0.3]\n",
    "scores = []\n",
    "\n",
    "for mode in MODES:\n",
    "    logits_cf = OmegaConf.load(f'configs/logits_processor/{mode}.yaml')\n",
    "    args = OmegaConf.merge(args, logits_cf)\n",
    "    for model in MODELS:\n",
    "        for contrast in CONTRASTS:\n",
    "            for alpha in ALPHAS:\n",
    "                args.logitsp.contrast_logits_type = contrast\n",
    "                if mode == \"anti_lm\" and alpha == 0.1:\n",
    "                    continue\n",
    "                if mode == \"pmi\" and alpha == 0.3:\n",
    "                    continue\n",
    "                args.logitsp.alpha = alpha\n",
    "                args.model.model_size = model\n",
    "                \n",
    "                res_fn = cfp['gen_fn'].format(**args).replace('generated', 'results')\n",
    "               # print(res_fn)\n",
    "                if os.path.exists(res_fn):\n",
    "                    #with open(res_fn, 'r') as f:\n",
    "                    #    data = json.load(f)[0]\n",
    "                    data = pd.read_csv(res_fn, sep=\",\")\n",
    "                    score ={}\n",
    "                    score['model'] = model\n",
    "                    score['mode'] = mode\n",
    "                    score['contrast'] = contrast\n",
    "                    score['alpha'] = alpha\n",
    "                   # score['bleu'] = data['sb']\n",
    "                    score['lang'] = len(data[data['lang']==\"en\"])\n",
    "                    scores.append(score)\n",
    "                   # print(score)\n",
    "scores = pd.DataFrame(scores)\n",
    "scores.drop_duplicates(inplace=True)"
   ]
  },
  {
   "cell_type": "code",
   "execution_count": 59,
   "metadata": {},
   "outputs": [
    {
     "data": {
      "image/png": "[encoded data removed]",
      "text/plain": [
       "<Figure size 640x480 with 1 Axes>"
      ]
     },
     "metadata": {},
     "output_type": "display_data"
    }
   ],
   "source": [
    "# something wrong wiht this graph\n",
    "sns.barplot(scores, x=\"model\", y=\"lang\", hue=\"mode\")\n",
    "plt.show()"
   ]
  },
  {
   "cell_type": "code",
   "execution_count": 55,
   "metadata": {},
   "outputs": [
    {
     "data": {
      "text/plain": [
       "bloom3b     8\n",
       "xglm2.9B    8\n",
       "xglm7.5B    8\n",
       "bloom7b1    8\n",
       "Name: model, dtype: int64"
      ]
     },
     "execution_count": 55,
     "metadata": {},
     "output_type": "execute_result"
    }
   ],
   "source": [
    "scores['model'].value_counts()"
   ]
  },
  {
   "cell_type": "code",
   "execution_count": 14,
   "metadata": {},
   "outputs": [
    {
     "data": {
      "text/plain": [
       "'/exp/ssia/projects/icl_antilm_decoding/generated/format-instr_L1L2/no_lengthfilter-random/gen-defaultsentence-AntiLM_x-0.3_decay/FLORES-FLORES/gptn2.7B-nprompts0-seed0.en-fr.csv.hyp'"
      ]
     },
     "execution_count": 14,
     "metadata": {},
     "output_type": "execute_result"
    }
   ],
   "source": [
    "cfp['gen_fn'].format(**args)"
   ]
  },
  {
   "cell_type": "code",
   "execution_count": null,
   "metadata": {},
   "outputs": [],
   "source": []
  }
 ],
 "metadata": {
  "kernelspec": {
   "display_name": "Python 3",
   "language": "python",
   "name": "python3"
  },
  "language_info": {
   "codemirror_mode": {
    "name": "ipython",
    "version": 3
   },
   "file_extension": ".py",
   "mimetype": "text/x-python",
   "name": "python",
   "nbconvert_exporter": "python",
   "pygments_lexer": "ipython3",
   "version": "3.7.6"
  }
 },
 "nbformat": 4,
 "nbformat_minor": 4
}
